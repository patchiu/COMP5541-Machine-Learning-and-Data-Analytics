{
 "cells": [
  {
   "cell_type": "markdown",
   "id": "ff360a14-9a3b-4877-9768-4ad8022417ca",
   "metadata": {},
   "source": [
    "In the test.csv , we don’t have the SalePrice. I can't find the out sample error.\n"
   ]
  },
  {
   "cell_type": "code",
   "execution_count": 19,
   "id": "74d501f4-75e5-47d1-8dbd-d8f6fd5616a6",
   "metadata": {},
   "outputs": [],
   "source": [
    "import numpy as np # linear algebra\n",
    "import pandas as pd\n",
    "import matplotlib.pyplot as plt\n",
    "import matplotlib.animation as animation\n",
    "import os\n",
    "\n",
    "\n",
    "\n",
    "def gradient_descent(x, y):\n",
    "    N = y.size  # No. of data points\n",
    "\n",
    "    learning_rate = 0.01  # Step size\n",
    "    iterations = 2000  # No. of iterations\n",
    "    epsilon = 0.0001\n",
    "\n",
    "    np.random.seed(123)\n",
    "    w = np.random.rand(2)\n",
    "    all_avg_err = []\n",
    "    all_w = [w]\n",
    "\n",
    "    for i in range(iterations):\n",
    "        ## forward pass\n",
    "        prediction = np.dot(x, w)\n",
    "        errors = prediction - y\n",
    "        avg_err = 1/N * np.dot(errors.T, errors)\n",
    "        all_avg_err.append(avg_err)\n",
    "\n",
    "        ## update w     (y^bar -(wT x + b))^2  --> 2(y^bar - (Wt)...)\n",
    "        w = w - learning_rate * (2/N) * np.dot(x.T, errors)\n",
    "        all_w.append(w)\n",
    "\n",
    "    return all_w, all_avg_err\n",
    "\n",
    "def show_err(all_avg_err):\n",
    "    plt.title('Errors')\n",
    "    plt.xlabel('No. of iterations')\n",
    "    plt.ylabel('Err')\n",
    "    plt.plot(all_avg_err)\n",
    "    plt.show()\n",
    "    print('in sample err : ' )\n",
    "    print(all_avg_err[-1])\n",
    "\n",
    "def show_w(x, y, all_w, all_avg_err):\n",
    "    # Set the plot up,\n",
    "    fig = plt.figure()\n",
    "    ax = plt.axes()\n",
    "    plt.title('Sale Price vs Living Area')\n",
    "    plt.xlabel('Living Area in square feet (normalised)')\n",
    "    plt.ylabel('Sale Price ($)')\n",
    "    plt.scatter(x[:, 1], y, color='red')\n",
    "    line, = ax.plot([], [], lw=2)\n",
    "    annotation = ax.text(-1, 700000, '')\n",
    "    annotation.set_animated(True)\n",
    "    plt.close()\n",
    "\n",
    "    def init():\n",
    "        line.set_data([], [])\n",
    "        annotation.set_text('')\n",
    "        return line, annotation\n",
    "\n",
    "    # animation function.  This is called sequentially\n",
    "    def animate(i):\n",
    "        x = np.linspace(-5, 20, 1000)\n",
    "        y = all_w[i][1] * x + all_w[i][0]\n",
    "        line.set_data(x, y)\n",
    "        annotation.set_text('err = %.2f e10' % (all_avg_err[i] / 10000000000))\n",
    "        return line, annotation\n",
    "\n",
    "    anim = animation.FuncAnimation(fig, animate, init_func=init, frames=300, interval=0, blit=True)\n",
    "    anim.save('./L02_LinearReg/animation.gif', writer='imagemagick', fps=30)\n",
    "    print('./L02_LinearReg/animation saved!')\n",
    "\n",
    "\n",
    "def demo():\n",
    "    x, y = load_data()\n",
    "\n",
    "    all_w, all_avg_err = gradient_descent(x, y)\n",
    "\n",
    "    w = all_w[-1]\n",
    "    print(\"Estimated w1, w2: {:.2f}, {:.2f}\".format(w[0], w[1]))\n",
    "\n",
    "    show_err(all_avg_err)\n",
    "    show_w(x, y, all_w, all_avg_err)\n"
   ]
  },
  {
   "cell_type": "markdown",
   "id": "823dbd52-5b84-45dd-8be8-62f2faaa06bd",
   "metadata": {},
   "source": [
    "+++++++++++++++++++++++++++\n",
    "\n",
    "model : y = wx + b"
   ]
  },
  {
   "cell_type": "code",
   "execution_count": 23,
   "id": "91373bd5-803e-4902-93af-a07460c06ade",
   "metadata": {},
   "outputs": [
    {
     "name": "stdout",
     "output_type": "stream",
     "text": [
      "model : y = wx + b \n",
      "Estimated w1, w2: 180921.20, 56294.90\n"
     ]
    },
    {
     "data": {
      "image/png": "[encoded data removed]",
      "text/plain": [
       "<Figure size 432x288 with 1 Axes>"
      ]
     },
     "metadata": {
      "needs_background": "light"
     },
     "output_type": "display_data"
    },
    {
     "name": "stdout",
     "output_type": "stream",
     "text": [
      "in sample err : \n",
      "3139843209.6665273\n"
     ]
    }
   ],
   "source": [
    "print(\"model : y = wx + b \")\n",
    "\n",
    "\n",
    "def load_data(path):\n",
    "    #cwd = os.getcwd()\n",
    "    #print(cwd)\n",
    "\n",
    "    data = pd.read_csv(path)\n",
    "\n",
    "    x = data['GrLivArea']\n",
    "    y = data['SalePrice']\n",
    "\n",
    "    #pre-processing\n",
    "    x = (x - x.mean()) / x.std()   ## Nx1\n",
    "    x = np.c_[np.ones(x.shape[0]), x]  ##  Nx2\n",
    "\n",
    "    return x, y\n",
    "\n",
    "\n",
    "\n",
    "\n",
    "#training\n",
    "\n",
    "x, y = load_data('train.csv')\n",
    "\n",
    "all_w, all_avg_err = gradient_descent(x, y)\n",
    "\n",
    "w = all_w[-1]\n",
    "print(\"Estimated w1, w2: {:.2f}, {:.2f}\".format(w[0], w[1]))\n",
    "\n",
    "show_err(all_avg_err)\n",
    "#show_w(x, y, all_w, all_avg_err)\n",
    "\n",
    "\n",
    "\n",
    "\n",
    "#testing\n",
    "#x, y = load_data('test.csv')\n",
    "#y_predict = np.dot(x, w)\n",
    "#MSE = np.square(np.subtract(y,y_predict)).mean()\n",
    "#MSE\n",
    "\n"
   ]
  },
  {
   "cell_type": "markdown",
   "id": "fea1ac75-75f2-430f-98a9-a519ea8a1087",
   "metadata": {},
   "source": [
    "+++++++++++++++++++++++++++\n",
    "\n",
    "model : y = w*log10(x) + b "
   ]
  },
  {
   "cell_type": "code",
   "execution_count": 25,
   "id": "93cfd846-346a-4862-b49f-aca8d3c75905",
   "metadata": {},
   "outputs": [
    {
     "name": "stdout",
     "output_type": "stream",
     "text": [
      "model : y = w*log(x) + b \n",
      "Estimated w1, w2: 180921.20, 55221.92\n"
     ]
    },
    {
     "data": {
      "image/png": "[encoded data removed]",
      "text/plain": [
       "<Figure size 432x288 with 1 Axes>"
      ]
     },
     "metadata": {
      "needs_background": "light"
     },
     "output_type": "display_data"
    },
    {
     "name": "stderr",
     "output_type": "stream",
     "text": [
      "MovieWriter imagemagick unavailable; using Pillow instead.\n"
     ]
    },
    {
     "name": "stdout",
     "output_type": "stream",
     "text": [
      "in sample err : \n",
      "3259416903.252769\n",
      "./L02_LinearReg/animation saved!\n"
     ]
    }
   ],
   "source": [
    "print(\"model : y = w*log(x) + b \")\n",
    "\n",
    "\n",
    "def load_data(path):\n",
    "    #cwd = os.getcwd()\n",
    "    #print(cwd)\n",
    "\n",
    "    data = pd.read_csv(path)\n",
    "\n",
    "    x = data['GrLivArea']\n",
    "    y = data['SalePrice']\n",
    "\n",
    "    #pre-processing\n",
    "    \n",
    "    x = np.log10(x)\n",
    "    x = (x - x.mean()) / x.std()   ## Nx1\n",
    "    x = np.c_[np.ones(x.shape[0]), x]  ##  Nx2\n",
    "\n",
    "    return x, y\n",
    "\n",
    "\n",
    "\n",
    "\n",
    "#training\n",
    "\n",
    "x, y = load_data('train.csv')\n",
    "\n",
    "all_w, all_avg_err = gradient_descent(x, y)\n",
    "\n",
    "w = all_w[-1]\n",
    "print(\"Estimated w1, w2: {:.2f}, {:.2f}\".format(w[0], w[1]))\n",
    "\n",
    "show_err(all_avg_err)\n",
    "#show_w(x, y, all_w, all_avg_err)\n",
    "\n",
    "\n",
    "\n",
    "\n",
    "#testing\n",
    "#x, y = load_data('test.csv')\n",
    "#y_predict = np.dot(x, w)\n",
    "#MSE = np.square(np.subtract(y,y_predict)).mean()\n",
    "#MSE\n"
   ]
  },
  {
   "cell_type": "markdown",
   "id": "02c70758-cb74-47e8-aba7-89851b9dbe23",
   "metadata": {},
   "source": [
    "+++++++++++++++++++++++++++\n",
    "\n",
    "model : y = wx^2+ b "
   ]
  },
  {
   "cell_type": "code",
   "execution_count": 28,
   "id": "9b370901-5349-46c9-920b-086e21eb0b63",
   "metadata": {},
   "outputs": [
    {
     "name": "stdout",
     "output_type": "stream",
     "text": [
      "model : y = wx^2 + b  \n",
      "Estimated w1, w2: 180921.20, 51817.70\n"
     ]
    },
    {
     "data": {
      "image/png": "[encoded data removed]",
      "text/plain": [
       "<Figure size 432x288 with 1 Axes>"
      ]
     },
     "metadata": {
      "needs_background": "light"
     },
     "output_type": "display_data"
    },
    {
     "name": "stdout",
     "output_type": "stream",
     "text": [
      "in sample err : \n",
      "3623553777.5476136\n"
     ]
    }
   ],
   "source": [
    "print(\"model : y = wx^2 + b  \")\n",
    "\n",
    "\n",
    "def load_data(path):\n",
    "    #cwd = os.getcwd()\n",
    "    #print(cwd)\n",
    "\n",
    "    data = pd.read_csv(path)\n",
    "\n",
    "    x = data['GrLivArea']\n",
    "    y = data['SalePrice']\n",
    "\n",
    "    #pre-processing\n",
    "    \n",
    "    x = np.power(x,2)\n",
    "    \n",
    "    x = (x - x.mean()) / x.std()   ## Nx1\n",
    "    x = np.c_[np.ones(x.shape[0]), x]  ##  Nx2\n",
    "\n",
    "    return x, y\n",
    "\n",
    "\n",
    "\n",
    "\n",
    "#training\n",
    "\n",
    "x, y = load_data('train.csv')\n",
    "\n",
    "all_w, all_avg_err = gradient_descent(x, y)\n",
    "\n",
    "w = all_w[-1]\n",
    "print(\"Estimated w1, w2: {:.2f}, {:.2f}\".format(w[0], w[1]))\n",
    "\n",
    "show_err(all_avg_err)\n",
    "#show_w(x, y, all_w, all_avg_err)\n",
    "\n",
    "\n",
    "\n",
    "\n",
    "#testing\n",
    "#x, y = load_data('test.csv')\n",
    "#y_predict = np.dot(x, w)\n",
    "#MSE = np.square(np.subtract(y,y_predict)).mean()\n",
    "#MSE\n"
   ]
  },
  {
   "cell_type": "code",
   "execution_count": null,
   "id": "7867635d-ae78-49a2-af2e-749a49b8ab8b",
   "metadata": {},
   "outputs": [],
   "source": []
  }
 ],
 "metadata": {
  "kernelspec": {
   "display_name": "Python 3",
   "language": "python",
   "name": "python3"
  },
  "language_info": {
   "codemirror_mode": {
    "name": "ipython",
    "version": 3
   },
   "file_extension": ".py",
   "mimetype": "text/x-python",
   "name": "python",
   "nbconvert_exporter": "python",
   "pygments_lexer": "ipython3",
   "version": "3.8.8"
  }
 },
 "nbformat": 4,
 "nbformat_minor": 5
}
